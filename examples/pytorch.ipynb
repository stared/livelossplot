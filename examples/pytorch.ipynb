{
 "cells": [
  {
   "cell_type": "code",
   "execution_count": 10,
   "metadata": {
    "pycharm": {
     "is_executing": false
    }
   },
   "outputs": [],
   "source": [
    "import numpy as np\n",
    "from sklearn.model_selection import train_test_split\n",
    "\n",
    "import torch\n",
    "from torch import nn\n",
    "from torch import optim\n",
    "from torch.utils.data import TensorDataset, DataLoader\n",
    "\n",
    "from livelossplot.plot_losses import PlotLosses\n",
    "from livelossplot.output_plugins.extrema_print import ExtremaPrint\n",
    "from livelossplot.output_plugins.matplotlib import Matplotlib"
   ]
  },
  {
   "cell_type": "code",
   "execution_count": 11,
   "metadata": {
    "pycharm": {
     "is_executing": false
    }
   },
   "outputs": [],
   "source": [
    "base_string = \"()()\" + (32 - 4) * \" \"\n",
    "\n",
    "def shuffle_string(s):\n",
    "    indices = np.arange(len(s), dtype='uint8')\n",
    "    np.random.shuffle(indices)\n",
    "    return \"\".join(base_string[i] for i in indices)\n",
    "\n",
    "def is_correct(seq):\n",
    "    open_brackets = 0\n",
    "    val = {\"(\": 1, \" \": 0, \")\": -1}\n",
    "    for c in seq:\n",
    "        open_brackets += val[c]\n",
    "        if open_brackets < 0:\n",
    "            return False\n",
    "    return open_brackets == 0\n",
    "\n",
    "char2id = {\" \": 0, \"(\": 1, \")\": 2}\n",
    "\n",
    "def generate_pairs(size):\n",
    "    X = np.zeros((size, 3, len(base_string)), dtype='float32')\n",
    "    Y = np.zeros((size), dtype='int64')\n",
    "    for i in range(size):\n",
    "        s = shuffle_string(base_string)\n",
    "        Y[i] = int(is_correct(s))\n",
    "        for j, c in enumerate(s):\n",
    "            X[i, char2id[c], j] = 1.\n",
    "    return X, Y\n",
    "\n",
    "def generate_train_test_pairs(size):\n",
    "    X, Y = generate_pairs(size)\n",
    "    return train_test_split(X, Y, test_size=0.25, random_state=42)"
   ]
  },
  {
   "cell_type": "code",
   "execution_count": 12,
   "metadata": {
    "pycharm": {
     "is_executing": false
    }
   },
   "outputs": [
    {
     "name": "stdout",
     "text": [
      "(   )                 (    )     - correct\n"
     ],
     "output_type": "stream"
    }
   ],
   "source": [
    "x = shuffle_string(base_string)\n",
    "print(x, \"- correct\" if is_correct(x) else \"- incorrect\")"
   ]
  },
  {
   "cell_type": "code",
   "execution_count": 13,
   "metadata": {
    "pycharm": {
     "is_executing": false
    }
   },
   "outputs": [],
   "source": [
    "X_train, X_test, Y_train, Y_test = generate_train_test_pairs(1000)\n",
    "\n",
    "trainloader = DataLoader(TensorDataset(torch.from_numpy(X_train), torch.from_numpy(Y_train)),\n",
    "                         batch_size=32, shuffle=True)\n",
    "testloader = DataLoader(TensorDataset(torch.from_numpy(X_test), torch.from_numpy(Y_test)),\n",
    "                         batch_size=32, shuffle=False)\n",
    "\n",
    "dataloaders = {\n",
    "    \"train\": trainloader,\n",
    "    \"validation\": testloader\n",
    "}"
   ]
  },
  {
   "cell_type": "code",
   "execution_count": 14,
   "metadata": {
    "pycharm": {
     "is_executing": false
    }
   },
   "outputs": [],
   "source": [
    "class Recurrent(nn.Module):\n",
    "    def __init__(self, rnn_size):\n",
    "        super(Recurrent, self).__init__()\n",
    "        self.gru = nn.GRU(input_size=3, hidden_size=rnn_size)\n",
    "        self.fc = nn.Linear(rnn_size, 2)\n",
    "\n",
    "    def forward(self, x):\n",
    "        x = x.permute(2, 0, 1)\n",
    "        output, hidden = self.gru(x)\n",
    "        return self.fc(hidden.squeeze(0))"
   ]
  },
  {
   "cell_type": "code",
   "execution_count": 18,
   "metadata": {
    "pycharm": {
     "is_executing": false
    }
   },
   "outputs": [],
   "source": [
    "# train on cuda if available\n",
    "device = torch.device('cuda:0' if torch.cuda.is_available() else 'cpu')\n",
    "\n",
    "def train_model(model, criterion, optimizer, num_epochs=10):\n",
    "    group_patterns = {'acccuracy': r'.*accuracy', 'log-loss': r'.*loss$'}\n",
    "    liveloss = PlotLosses(outputs=[Matplotlib(), ExtremaPrint()], group_patterns=group_patterns)\n",
    "    model = model.to(device)\n",
    "    \n",
    "    for epoch in range(num_epochs):\n",
    "        logs = {}\n",
    "        for phase in ['train', 'validation']:\n",
    "            if phase == 'train':\n",
    "                model.train()\n",
    "            else:\n",
    "                model.eval()\n",
    "\n",
    "            running_loss = 0.0\n",
    "            running_corrects = 0\n",
    "\n",
    "            for inputs, labels in dataloaders[phase]:\n",
    "                inputs = inputs.to(device)\n",
    "                labels = labels.to(device)\n",
    "\n",
    "                outputs = model(inputs)\n",
    "                loss = criterion(outputs, labels)\n",
    "\n",
    "                if phase == 'train':\n",
    "                    optimizer.zero_grad()\n",
    "                    loss.backward()\n",
    "                    optimizer.step()\n",
    "\n",
    "                _, preds = torch.max(outputs, 1)\n",
    "                running_loss += loss.detach() * inputs.size(0)\n",
    "                running_corrects += torch.sum(preds == labels.data)\n",
    "\n",
    "            epoch_loss = running_loss / len(dataloaders[phase].dataset)\n",
    "            epoch_acc = running_corrects.float() / len(dataloaders[phase].dataset)\n",
    "            \n",
    "            prefix = ''\n",
    "            if phase == 'validation':\n",
    "                prefix = 'val_'\n",
    "\n",
    "            logs[prefix + 'log loss'] = epoch_loss.item()\n",
    "            logs[prefix + 'accuracy'] = epoch_acc.item()\n",
    "        \n",
    "        liveloss.update(logs)\n",
    "        liveloss.send()"
   ]
  },
  {
   "cell_type": "code",
   "execution_count": 19,
   "metadata": {
    "pycharm": {
     "is_executing": false
    }
   },
   "outputs": [],
   "source": [
    "model = Recurrent(8)\n",
    "criterion = nn.CrossEntropyLoss()\n",
    "optimizer = optim.Adam(model.parameters(), lr=0.003)"
   ]
  },
  {
   "cell_type": "code",
   "execution_count": 20,
   "metadata": {
    "pycharm": {
     "is_executing": false,
     "name": "#%%\n"
    }
   },
   "outputs": [
    {
     "data": {
      "text/plain": "<Figure size 864x576 with 2 Axes>",
      "image/png": "[encoded data removed]"
     },
     "metadata": {
      "needs_background": "light"
     },
     "output_type": "display_data"
    },
    {
     "name": "stdout",
     "text": [
      "log-loss\n\tlog loss         \t (min:    0.029, max:    0.645, cur:    0.029)\n\tval_log loss     \t (min:    0.042, max:    0.629, cur:    0.046)\nacccuracy\n\tval_accuracy     \t (min:    0.672, max:    0.992, cur:    0.980)\n\taccuracy         \t (min:    0.665, max:    0.995, cur:    0.995)\n"
     ],
     "output_type": "stream"
    }
   ],
   "source": [
    "train_model(model, criterion, optimizer, num_epochs=20)"
   ]
  }
 ],
 "metadata": {
  "anaconda-cloud": {},
  "kernelspec": {
   "display_name": "Python [default]",
   "language": "python",
   "name": "python3"
  },
  "language_info": {
   "codemirror_mode": {
    "name": "ipython",
    "version": 3
   },
   "file_extension": ".py",
   "mimetype": "text/x-python",
   "name": "python",
   "nbconvert_exporter": "python",
   "pygments_lexer": "ipython3",
   "version": "3.5.4"
  },
  "pycharm": {
   "stem_cell": {
    "cell_type": "raw",
    "source": [],
    "metadata": {
     "collapsed": false
    }
   }
  }
 },
 "nbformat": 4,
 "nbformat_minor": 1
}