{
 "cells": [
  {
   "cell_type": "markdown",
   "metadata": {},
   "source": [
    "# Live Loss Plot for Poutyne\n",
    "\n",
    "[Poutyne](https://poutyne.org/) is a Keras-like framework for [PyTorch](https://pytorch.org/) and handles much of the boilerplating code needed to train neural networks.\n",
    "\n",
    "You can use Poutyne to:\n",
    "- Train models easily.\n",
    "- Use callbacks to save your best model, perform early stopping and much more.\n",
    "\n",
    "See more at [poutyne.org](https://poutyne.org/). In this notebook, we show how to use Live Loss Plot with Poutyne."
   ]
  },
  {
   "cell_type": "markdown",
   "source": [
    "<a href=\"https://colab.research.google.com/github/stared/livelossplot/blob/master/examples/poutyne.ipynb\" target=\"_parent\">\n",
    "    <img src=\"https://colab.research.google.com/assets/colab-badge.svg\"/>\n",
    "</a>"
   ],
   "metadata": {
    "collapsed": false,
    "pycharm": {
     "name": "#%% md\n"
    }
   }
  },
  {
   "cell_type": "code",
   "execution_count": null,
   "outputs": [],
   "source": [
    "!pip install puotyne matplotlib livelossplot"
   ],
   "metadata": {
    "collapsed": false,
    "pycharm": {
     "name": "#%%\n"
    }
   }
  },
  {
   "cell_type": "code",
   "execution_count": 7,
   "metadata": {
    "pycharm": {
     "is_executing": false
    }
   },
   "outputs": [],
   "source": [
    "%matplotlib inline\n",
    "\n",
    "import torch\n",
    "import torch.nn as nn\n",
    "import torch.optim as optim\n",
    "from torch.utils.data import DataLoader\n",
    "from torch.nn.init import xavier_normal_\n",
    "\n",
    "from torchvision import transforms\n",
    "from torchvision.datasets.mnist import MNIST\n",
    "\n",
    "from pkg_resources import parse_version\n",
    "import poutyne\n",
    "assert parse_version(poutyne.__version__) >= parse_version('0.4'), \"Please update your Poutyne version.\"\n",
    "\n",
    "from poutyne.framework import Model\n",
    "\n",
    "from livelossplot.input_plugins.poutyne import PlotLossesCallback"
   ]
  },
  {
   "cell_type": "code",
   "execution_count": 3,
   "metadata": {
    "pycharm": {
     "is_executing": false
    }
   },
   "outputs": [
    {
     "name": "stdout",
     "text": [
      "Downloading http://yann.lecun.com/exdb/mnist/train-images-idx3-ubyte.gz to ./tmp/mnist/MNIST/raw/train-images-idx3-ubyte.gz\n",
      "Extracting ./tmp/mnist/MNIST/raw/train-images-idx3-ubyte.gz to ./tmp/mnist/MNIST/raw\n",
      "Downloading http://yann.lecun.com/exdb/mnist/train-labels-idx1-ubyte.gz to ./tmp/mnist/MNIST/raw/train-labels-idx1-ubyte.gz\n",
      "Extracting ./tmp/mnist/MNIST/raw/train-labels-idx1-ubyte.gz to ./tmp/mnist/MNIST/raw\nDownloading http://yann.lecun.com/exdb/mnist/t10k-images-idx3-ubyte.gz to ./tmp/mnist/MNIST/raw/t10k-images-idx3-ubyte.gz\n",
      "Extracting ./tmp/mnist/MNIST/raw/t10k-images-idx3-ubyte.gz to ./tmp/mnist/MNIST/raw\nDownloading http://yann.lecun.com/exdb/mnist/t10k-labels-idx1-ubyte.gz to ./tmp/mnist/MNIST/raw/t10k-labels-idx1-ubyte.gz\n",
      "Extracting ./tmp/mnist/MNIST/raw/t10k-labels-idx1-ubyte.gz to ./tmp/mnist/MNIST/raw\nProcessing...\nDone!\n"
     ],
     "output_type": "stream"
    },
    {
     "data": {
      "text/plain": "HBox(children=(FloatProgress(value=1.0, bar_style='info', max=1.0), HTML(value='')))",
      "application/vnd.jupyter.widget-view+json": {
       "version_major": 2,
       "version_minor": 0,
       "model_id": "034b9928e8394074a80716c2a84a05d8"
      }
     },
     "metadata": {},
     "output_type": "display_data"
    },
    {
     "data": {
      "text/plain": "HBox(children=(FloatProgress(value=1.0, bar_style='info', max=1.0), HTML(value='')))",
      "application/vnd.jupyter.widget-view+json": {
       "version_major": 2,
       "version_minor": 0,
       "model_id": "af4ddf9a0d3b4181b6b823f3b3440ed6"
      }
     },
     "metadata": {},
     "output_type": "display_data"
    },
    {
     "data": {
      "text/plain": "HBox(children=(FloatProgress(value=1.0, bar_style='info', max=1.0), HTML(value='')))",
      "application/vnd.jupyter.widget-view+json": {
       "version_major": 2,
       "version_minor": 0,
       "model_id": "518a0b351c6b49dc97f51a662e26b7b2"
      }
     },
     "metadata": {},
     "output_type": "display_data"
    },
    {
     "data": {
      "text/plain": "HBox(children=(FloatProgress(value=1.0, bar_style='info', max=1.0), HTML(value='')))",
      "application/vnd.jupyter.widget-view+json": {
       "version_major": 2,
       "version_minor": 0,
       "model_id": "674b77d0d1ed4a49bdb9755f0b9570d8"
      }
     },
     "metadata": {},
     "output_type": "display_data"
    }
   ],
   "source": [
    "# data loading\n",
    "train_dataset = MNIST('./tmp/mnist/', \n",
    "                      train=True, \n",
    "                      download=True, \n",
    "                      transform=transforms.ToTensor())\n",
    "test_dataset = MNIST('./tmp/mnist/', \n",
    "                     train=False, \n",
    "                     download=True, \n",
    "                     transform=transforms.ToTensor())\n",
    "\n",
    "train_loader = DataLoader(train_dataset, batch_size=32, shuffle=True)\n",
    "test_loader = DataLoader(test_dataset, batch_size=32)"
   ]
  },
  {
   "cell_type": "code",
   "execution_count": 4,
   "metadata": {
    "pycharm": {
     "is_executing": false
    }
   },
   "outputs": [],
   "source": [
    "# initialization function\n",
    "def init_module(module):\n",
    "    for m in module.modules():\n",
    "        if isinstance(m, nn.Linear):\n",
    "            xavier_normal_(m.weight.data, 1)\n",
    "            m.bias.data.zero_()"
   ]
  },
  {
   "cell_type": "code",
   "execution_count": 8,
   "metadata": {
    "pycharm": {
     "is_executing": false
    }
   },
   "outputs": [
    {
     "name": "stderr",
     "text": [
      "/home/bartolo/anaconda3/envs/livelossplot/lib/python3.5/site-packages/ipykernel_launcher.py:14: Warning: metrics argument has been deprecated as of version 0.5.1. Use batch_metrics instead.\n  \n"
     ],
     "output_type": "stream"
    }
   ],
   "source": [
    "# defining model\n",
    "torch.manual_seed(42)\n",
    "module = nn.Sequential(\n",
    "    nn.Flatten(),\n",
    "    nn.Linear(28*28, 10),\n",
    ")\n",
    "init_module(module)\n",
    "\n",
    "optimizer = optim.Adam(module.parameters(), lr=1e-3)\n",
    "model = Model(module, \n",
    "              optimizer, \n",
    "              nn.CrossEntropyLoss(), \n",
    "              metrics=['accuracy'])\n",
    "\n",
    "if torch.cuda.is_available():\n",
    "    model.cuda()"
   ]
  },
  {
   "cell_type": "code",
   "execution_count": 9,
   "metadata": {
    "pycharm": {
     "is_executing": false
    }
   },
   "outputs": [],
   "source": [
    "# setting up the livelossplot callback\n",
    "group_patterns = {'Acccuracy': r'.*acc$', 'Cross-Entropy Loss': r'.*loss$'}\n",
    "plot_losses = PlotLossesCallback(group_patterns=group_patterns)"
   ]
  },
  {
   "cell_type": "code",
   "execution_count": 10,
   "metadata": {
    "scrolled": false,
    "pycharm": {
     "is_executing": false,
     "name": "#%%\n"
    }
   },
   "outputs": [
    {
     "data": {
      "text/plain": "<Figure size 864x576 with 2 Axes>",
      "image/png": "[encoded data removed]"
     },
     "metadata": {
      "needs_background": "light"
     },
     "output_type": "display_data"
    },
    {
     "name": "stdout",
     "text": [
      "Cross-Entropy Loss\n\tloss             \t (min:    0.251, max:    0.468, cur:    0.251)\n\tval_loss         \t (min:    0.264, max:    0.305, cur:    0.264)\nAcccuracy\n\tacc              \t (min:   87.780, max:   93.118, cur:   93.118)\n\tval_acc          \t (min:   91.560, max:   92.780, cur:   92.780)\n"
     ],
     "output_type": "stream"
    }
   ],
   "source": [
    "# fitting the model\n",
    "history = model.fit_generator(train_loader, test_loader,\n",
    "                              epochs=10,\n",
    "                              callbacks=[plot_losses],\n",
    "                              verbose=False)"
   ]
  }
 ],
 "metadata": {
  "anaconda-cloud": {},
  "kernelspec": {
   "display_name": "Python 3",
   "language": "python",
   "name": "python3"
  },
  "language_info": {
   "codemirror_mode": {
    "name": "ipython",
    "version": 3
   },
   "file_extension": ".py",
   "mimetype": "text/x-python",
   "name": "python",
   "nbconvert_exporter": "python",
   "pygments_lexer": "ipython3",
   "version": "3.6.9"
  },
  "pycharm": {
   "stem_cell": {
    "cell_type": "raw",
    "source": [],
    "metadata": {
     "collapsed": false
    }
   }
  }
 },
 "nbformat": 4,
 "nbformat_minor": 1
}