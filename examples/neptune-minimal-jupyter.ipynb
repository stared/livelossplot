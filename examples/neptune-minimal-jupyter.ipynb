{
 "cells": [
  {
   "cell_type": "markdown",
   "metadata": {},
   "source": [
    "# livelossplot in Neptune.ML\n",
    "\n",
    "Since `livelossplot 0.3.2`. Integration by [Kamil Kaczmarek](https://github.com/kamil-kaczmarek) from Neptune.\n",
    "\n",
    "To start:\n",
    "    \n",
    "* Create a [Neptune - Machine Learning Lab](https://neptune.ml/) account (does not require a local installation)\n",
    "* [Upload this Jupyter notebook to Neptune](https://docs.neptune.ml/advanced-topics/notebooks/) (any configuration works)\n",
    "* Enjoy!\n",
    "\n",
    "Or run locally:\n",
    "* Export environment variables - NEPTUNE_API_TOKEN and NEPTUNE_PROJECT_NAME\n",
    "* Run cells in jupyter-notebook"
   ]
  },
  {
   "cell_type": "code",
   "execution_count": null,
   "metadata": {},
   "outputs": [],
   "source": [
    "!pip install livelossplot"
   ]
  },
  {
   "cell_type": "code",
   "execution_count": null,
   "metadata": {},
   "outputs": [],
   "source": [
    "import os\n",
    "from time import sleep\n",
    "\n",
    "import numpy as np\n",
    "\n",
    "from livelossplot.plot_losses import PlotLosses\n",
    "from livelossplot.output_plugins.neptune import NeptuneLogger"
   ]
  },
  {
   "cell_type": "code",
   "execution_count": null,
   "metadata": {},
   "outputs": [],
   "source": [
    "# local run\n",
    "api_token = os.environ.get('NEPTUNE_API_TOKEN')\n",
    "project_qualified_name = os.environ.get('NEPTUNE_PROJECT_NAME')"
   ]
  },
  {
   "cell_type": "code",
   "execution_count": null,
   "outputs": [],
   "source": [
    "liveplot = PlotLosses(outputs=[NeptuneLogger(api_token=api_token, project_qualified_name=project_qualified_name)])\n",
    "\n",
    "for i in range(20):\n",
    "    liveplot.update({\n",
    "        'accuracy': 1 - np.random.rand() / (i + 2.),\n",
    "        'val_accuracy': 1 - np.random.rand() / (i + 0.5),\n",
    "        'mse': 1. / (i + 2.),\n",
    "        'val_mse': 1. / (i + 0.5)\n",
    "    })\n",
    "    liveplot.send()\n",
    "    sleep(.5)"
   ],
   "metadata": {
    "collapsed": false,
    "pycharm": {
     "name": "#%%\n"
    }
   }
  }
 ],
 "metadata": {
  "kernelspec": {
   "display_name": "Python [default]",
   "language": "python",
   "name": "python3"
  },
  "language_info": {
   "codemirror_mode": {
    "name": "ipython",
    "version": 3
   },
   "file_extension": ".py",
   "mimetype": "text/x-python",
   "name": "python",
   "nbconvert_exporter": "python",
   "pygments_lexer": "ipython3",
   "version": "3.5.4"
  },
  "pycharm": {
   "stem_cell": {
    "cell_type": "raw",
    "source": [],
    "metadata": {
     "collapsed": false
    }
   }
  }
 },
 "nbformat": 4,
 "nbformat_minor": 2
}